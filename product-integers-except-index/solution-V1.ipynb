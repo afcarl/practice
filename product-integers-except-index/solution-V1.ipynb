import functools

def get_products_of_all_ints_except_at_index(input_list):
    
    list_copy = list(input_list)
    
    product_list = []
    
    for i in range(0, len(list_copy)):
        temp = list_copy.pop(0) 
        product_list.append(functools.reduce(lambda x,y: x*y, list_copy))
        list_copy.append(temp)  
    
    return product_list
